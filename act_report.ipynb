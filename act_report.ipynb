{
 "cells": [
  {
   "cell_type": "markdown",
   "metadata": {},
   "source": [
    "# Project: Gather and Clean WeRateDogs Data\n",
    "## Act Report\n",
    "Haoming Jin\n",
    "\n",
    "## WeRateDogs Data\n",
    "\n",
    "WeRateDogs is a Twitter account that rates people's dogs with a humorous comment about the dog. The account was started in 2015 by college student Matt Nelson. We obtained 3 data files with information gathered from this twitter acount.\n",
    "1. WeRateDogs Twitter archive, which is sent to Udacity and enhanced by the instructors, and we manually downloaded this file.\n",
    "2. The image prediction file, which is programatically downloaded from the Udacity server. This file contains a prediction of dog types using machine learning on tweet images from WeRateDogs twitter.\n",
    "3. All the tweets' JSON data of WeRateDogs tweets, downloaded by using the tweepy library to query the Twitter API. The twitter id are from the first set of data.\n",
    "\n",
    "## Wrangling Data\n",
    "\n",
    "Before analyzing the data, we visually and programatically assess the datasets for quality and tidiness. We fixed most issues we found with the datasets and merged them into one single dataset. The details can be viewed in the wrangle report or the wrangle act Jupyter Notebook.\n",
    "\n",
    "The final cleaned data has 1974 rows each containing a tweet and its timestamp, ratings, dog prediction, dog stages(doggo, puppo, pupper or floofer), retweet count and favorite count, among some other information.\n",
    "\n",
    "## Insights\n",
    "\n",
    "**1. People love golden retrievers.**\n",
    "\n",
    "I think the first thing everybody want to know is: What dog is the most popular dog. Our data analysis will answer this question. \n",
    "\n",
    "![](Top_10_most_tweeted_dogs.png)\n",
    "![](Top_10_most_highly_rated_dogs.png)"
   ]
  },
  {
   "cell_type": "markdown",
   "metadata": {},
   "source": [
    "From the data we've gathered we can see that the top two tweeted dogs are both retrievers. Retrievers were originaly bred to retrieve birds or other prey for hunters, and they are very obedient and intelligent. In fact, both golden retrievers and labrador retrievers are ranked among the top ten 'smartest' dog breeds. They are also popular as disability assistant dogs. No wonder there are so many tweets about them!\n",
    "\n",
    "The top 10 most highly rated dogs are mostly larger dogs, and the golden retriever stays on top of both lists!\n",
    "\n",
    "**2. Strong correlations between ratings, retweet counts and favorite counts.**\n",
    "\n",
    "![](correlations.png)"
   ]
  },
  {
   "cell_type": "markdown",
   "metadata": {},
   "source": [
    "There is a strong positive correlation between a tweet's retweet count and it's favourite count. Also there is a clear correlation between ratings and retweet counts. The tweets with high retweet and favorite counts only have high ratings, while for tweets with low retweets the ratings are more spread out. This makes sense because if many people likes and retweets a dog picture, it is most probably pretty likable."
   ]
  },
  {
   "cell_type": "markdown",
   "metadata": {},
   "source": [
    "**3. Tweet trend of WeRateDogs has fallen compared to the start, but retweets are still constantly growing.**"
   ]
  },
  {
   "cell_type": "markdown",
   "metadata": {},
   "source": [
    "![](tweets_trend.png)\n",
    "![](retweet_fav_count_trend.png)"
   ]
  },
  {
   "cell_type": "markdown",
   "metadata": {},
   "source": [
    "Another question some may be interested is how is this twitter account doing, given that it was so viral around 2015. We found out that in the first 5 months, the number of tweets each month is very high. After that if quickly dropped and stay at a stable level of ~50 tweets per month. However, we can see that after month 5, the retweet count and favorite counts are still steadily increasing. This means that this account has pass the initial viral stage but people are still interested in the page and they are retweeting."
   ]
  }
 ],
 "metadata": {
  "kernelspec": {
   "display_name": "Python 3",
   "language": "python",
   "name": "python3"
  },
  "language_info": {
   "codemirror_mode": {
    "name": "ipython",
    "version": 3
   },
   "file_extension": ".py",
   "mimetype": "text/x-python",
   "name": "python",
   "nbconvert_exporter": "python",
   "pygments_lexer": "ipython3",
   "version": "3.6.3"
  }
 },
 "nbformat": 4,
 "nbformat_minor": 2
}
